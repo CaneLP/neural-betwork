{
 "cells": [
  {
   "cell_type": "code",
   "execution_count": 2,
   "metadata": {},
   "outputs": [],
   "source": [
    "import pandas as pd\n",
    "import tensorflow as tf\n",
    "from tensorflow import keras\n",
    "from sklearn.model_selection import train_test_split\n",
    "import numpy as np\n",
    "import copy\n",
    "import glob\n",
    "# Beautify print - delete later\n",
    "import sys\n",
    "np.set_printoptions(threshold=sys.maxsize)\n"
   ]
  },
  {
   "cell_type": "code",
   "execution_count": 3,
   "metadata": {},
   "outputs": [],
   "source": [
    "path = '../data'\n",
    "\n",
    "files = [f for f in glob.glob(path + \"**/*.csv\", recursive=True)]\n",
    "\n",
    "matches = pd.DataFrame()\n",
    "\n",
    "for f in files:\n",
    "    fields = ['HomeTeam', 'AwayTeam', 'FTR', 'FTHG', 'FTAG']\n",
    "    curr_season = pd.read_csv(f, error_bad_lines=False, usecols=fields)\n",
    "    # Filter float values that were given in the data\n",
    "    curr_season.dropna(inplace=True)\n",
    "    curr_season['FTHG'] = curr_season['FTHG'].astype(int)\n",
    "    curr_season['FTAG'] = curr_season['FTAG'].astype(int)\n",
    "    matches = matches.append(curr_season, ignore_index=True, sort='False')\n"
   ]
  },
  {
   "cell_type": "code",
   "execution_count": 4,
   "metadata": {},
   "outputs": [],
   "source": [
    "last_n_games = 10\n",
    "match = {}\n",
    "team = {}"
   ]
  },
  {
   "cell_type": "code",
   "execution_count": 6,
   "metadata": {},
   "outputs": [],
   "source": [
    "for i in range(len(matches)):\n",
    "    match_index = len(matches) - i - 1\n",
    "    curr_match = matches.iloc[len(matches) - i - 1]\n",
    "    match[match_index] = [(curr_match['HomeTeam'], curr_match['AwayTeam']), [0] * 6, [0] * 6]\n",
    "\n",
    "    if curr_match['HomeTeam'] in team:\n",
    "        team[curr_match['HomeTeam']] = team[curr_match['HomeTeam']] + [match_index]\n",
    "    else:\n",
    "        team[curr_match['HomeTeam']] = [match_index]\n",
    "\n",
    "    if curr_match['AwayTeam'] in team:\n",
    "        team[curr_match['AwayTeam']] = team[curr_match['AwayTeam']] + [match_index]\n",
    "    else:\n",
    "        team[curr_match['AwayTeam']] = [match_index]\n",
    "\n",
    "    if len(team[curr_match['HomeTeam']]) > last_n_games:\n",
    "        curr_team = copy.deepcopy(curr_match['HomeTeam'])\n",
    "        match_key = copy.deepcopy(team[curr_team].pop(0))\n",
    "        curr_team_matches = copy.deepcopy(team[curr_team])\n",
    "\n",
    "        games_total = 0\n",
    "        wins_total = 0\n",
    "        draws_total = 0\n",
    "        losses_total = 0\n",
    "        goals_scored_total = 0\n",
    "        goals_conceded_total = 0\n",
    "\n",
    "        for key in curr_team_matches:\n",
    "            games_total += 1\n",
    "            match_calc = matches.iloc[key]\n",
    "            if match_calc['FTR'] == 'H' and match_calc['HomeTeam'] == curr_team:\n",
    "                wins_total += 1\n",
    "            elif match_calc['FTR'] == 'A' and match_calc['AwayTeam'] == curr_team:\n",
    "                wins_total += 1\n",
    "\n",
    "            if match_calc['FTR'] == 'H' and match_calc['AwayTeam'] == curr_team:\n",
    "                losses_total += 1\n",
    "            elif match_calc['FTR'] == 'A' and match_calc['HomeTeam'] == curr_team:\n",
    "                losses_total += 1\n",
    "\n",
    "            if match_calc['FTR'] == 'D':\n",
    "                draws_total += 1\n",
    "\n",
    "            if match_calc['HomeTeam'] == curr_team:\n",
    "                goals_scored_total += match_calc['FTHG']\n",
    "                goals_conceded_total += match_calc['FTAG']\n",
    "            elif match_calc['AwayTeam'] == curr_team:\n",
    "                goals_scored_total += match_calc['FTAG']\n",
    "                goals_conceded_total += match_calc['FTHG']\n",
    "\n",
    "        home_or_away = 2\n",
    "        if matches.iloc[match_key]['HomeTeam'] == curr_team:\n",
    "            home_or_away = 1\n",
    "        match[match_key][home_or_away] = [games_total, wins_total, draws_total,\n",
    "                                          losses_total, goals_scored_total, goals_conceded_total]\n",
    "    if len(team[curr_match['AwayTeam']]) > last_n_games:\n",
    "        curr_team = copy.deepcopy(curr_match['AwayTeam'])\n",
    "        match_key = copy.deepcopy(team[curr_team].pop(0))\n",
    "        curr_team_matches = copy.deepcopy(team[curr_team])\n",
    "\n",
    "        games_total = 0\n",
    "        wins_total = 0\n",
    "        draws_total = 0\n",
    "        losses_total = 0\n",
    "        goals_scored_total = 0\n",
    "        goals_conceded_total = 0\n",
    "\n",
    "        for key in curr_team_matches:\n",
    "            games_total += 1\n",
    "            match_calc = matches.iloc[key]\n",
    "\n",
    "            if match_calc['FTR'] == 'H' and match_calc['HomeTeam'] == curr_team:\n",
    "                wins_total += 1\n",
    "            elif match_calc['FTR'] == 'A' and match_calc['AwayTeam'] == curr_team:\n",
    "                wins_total += 1\n",
    "\n",
    "            if match_calc['FTR'] == 'H' and match_calc['AwayTeam'] == curr_team:\n",
    "                losses_total += 1\n",
    "            elif match_calc['FTR'] == 'A' and match_calc['HomeTeam'] == curr_team:\n",
    "                losses_total += 1\n",
    "\n",
    "            if match_calc['FTR'] == 'D':\n",
    "                draws_total += 1\n",
    "\n",
    "            if match_calc['HomeTeam'] == curr_team:\n",
    "                goals_scored_total += match_calc['FTHG']\n",
    "                goals_conceded_total += match_calc['FTAG']\n",
    "            elif match_calc['AwayTeam'] == curr_team:\n",
    "                goals_scored_total += match_calc['FTAG']\n",
    "                goals_conceded_total += match_calc['FTHG']\n",
    "\n",
    "        home_or_away = 2\n",
    "        if matches.iloc[match_key]['HomeTeam'] == curr_team:\n",
    "            home_or_away = 1\n",
    "        match[match_key][home_or_away] = [games_total, wins_total, draws_total,\n",
    "                                          losses_total, goals_scored_total, goals_conceded_total]\n"
   ]
  },
  {
   "cell_type": "code",
   "execution_count": 7,
   "metadata": {},
   "outputs": [],
   "source": [
    "matches_nn_input = []\n",
    "rows_to_drop = []\n",
    "for key, value in match.items():\n",
    "    if np.count_nonzero(match[key][1]) == 0 or np.count_nonzero(match[key][2]) == 0:\n",
    "        # print(key, value)\n",
    "        rows_to_drop.append(key)\n",
    "    else:\n",
    "        matches_nn_input.append(match[key][1][1:] + match[key][2][1:])\n",
    "\n",
    "matches = matches.drop(rows_to_drop)\n",
    "matches.index = range(len(matches))\n",
    "matches_nn_input = np.array(matches_nn_input)\n",
    "\n",
    "full_time_results = matches['FTR']"
   ]
  },
  {
   "cell_type": "code",
   "execution_count": 38,
   "metadata": {},
   "outputs": [],
   "source": [
    "# output_class = ['H', 'D', 'A']\n",
    "output_class = [1, 0, 2]\n",
    "\n",
    "output_final_ints = []\n",
    "for res in full_time_results:\n",
    "    if res == 'H':\n",
    "        output_final_ints.append(1)\n",
    "    elif res == 'A':\n",
    "        output_final_ints.append(2)\n",
    "    else:\n",
    "        output_final_ints.append(0)\n",
    "output_final_ints = np.array(output_final_ints)\n",
    "\n",
    "train_input, test_input, train_output, test_output =\\\n",
    "    train_test_split(matches_nn_input, output_final_ints, test_size=0.25, shuffle=False)\n"
   ]
  },
  {
   "cell_type": "code",
   "execution_count": 62,
   "metadata": {},
   "outputs": [],
   "source": [
    "hidden_layer_1 = 10\n",
    "hidden_layer_2 = 10\n",
    "hidden_layer_3 = 10\n",
    "hidden_layer_4 = 10"
   ]
  },
  {
   "cell_type": "code",
   "execution_count": 63,
   "metadata": {},
   "outputs": [],
   "source": [
    "model = keras.Sequential([keras.layers.Flatten(),\n",
    "                          keras.layers.Dense(hidden_layer_1, activation=tf.nn.relu),\n",
    "                          keras.layers.Dense(hidden_layer_2, activation=tf.nn.relu),\n",
    "                          keras.layers.Dense(hidden_layer_3, activation=tf.nn.relu),\n",
    "                          keras.layers.Dense(hidden_layer_4, activation=tf.nn.relu),\n",
    "                          keras.layers.Dense(len(output_class), activation=tf.nn.softmax)])"
   ]
  },
  {
   "cell_type": "code",
   "execution_count": 64,
   "metadata": {},
   "outputs": [
    {
     "name": "stdout",
     "output_type": "stream",
     "text": [
      "Epoch 1/10\n",
      "7220/7220 [==============================] - 2s 253us/sample - loss: 1.1875 - acc: 0.4209\n",
      "Epoch 2/10\n",
      "7220/7220 [==============================] - 1s 128us/sample - loss: 1.0687 - acc: 0.4625\n",
      "Epoch 3/10\n",
      "7220/7220 [==============================] - 1s 133us/sample - loss: 1.0644 - acc: 0.4655\n",
      "Epoch 4/10\n",
      "7220/7220 [==============================] - 1s 136us/sample - loss: 1.0635 - acc: 0.4657\n",
      "Epoch 5/10\n",
      "7220/7220 [==============================] - 1s 146us/sample - loss: 1.0635 - acc: 0.4658\n",
      "Epoch 6/10\n",
      "7220/7220 [==============================] - 1s 145us/sample - loss: 1.0627 - acc: 0.4661\n",
      "Epoch 7/10\n",
      "7220/7220 [==============================] - 1s 150us/sample - loss: 1.0618 - acc: 0.4658\n",
      "Epoch 8/10\n",
      "7220/7220 [==============================] - 1s 166us/sample - loss: 1.0622 - acc: 0.4658\n",
      "Epoch 9/10\n",
      "7220/7220 [==============================] - 2s 257us/sample - loss: 1.0616 - acc: 0.4658\n",
      "Epoch 10/10\n",
      "7220/7220 [==============================] - 2s 224us/sample - loss: 1.0616 - acc: 0.4658\n"
     ]
    },
    {
     "data": {
      "text/plain": [
       "<tensorflow.python.keras.callbacks.History at 0x7f2546b02198>"
      ]
     },
     "execution_count": 64,
     "metadata": {},
     "output_type": "execute_result"
    }
   ],
   "source": [
    "model.compile(optimizer='adam',\n",
    "              loss='sparse_categorical_crossentropy',\n",
    "#               loss='categorical_crossentropy',\n",
    "              metrics=['accuracy'])\n",
    "\n",
    "model.fit(train_input, train_output, epochs=10)"
   ]
  },
  {
   "cell_type": "code",
   "execution_count": 65,
   "metadata": {},
   "outputs": [
    {
     "name": "stdout",
     "output_type": "stream",
     "text": [
      "2407/2407 [==============================] - 1s 336us/sample - loss: 1.0652 - acc: 0.4603\n",
      "Test accuracy: 0.46032405\n"
     ]
    }
   ],
   "source": [
    "test_loss, test_acc = model.evaluate(test_input, test_output)\n",
    "print('Test accuracy:', test_acc)\n",
    "\n",
    "prediction = model.predict(test_input)"
   ]
  },
  {
   "cell_type": "code",
   "execution_count": null,
   "metadata": {},
   "outputs": [],
   "source": []
  }
 ],
 "metadata": {
  "kernelspec": {
   "display_name": "Python 3",
   "language": "python",
   "name": "python3"
  },
  "language_info": {
   "codemirror_mode": {
    "name": "ipython",
    "version": 3
   },
   "file_extension": ".py",
   "mimetype": "text/x-python",
   "name": "python",
   "nbconvert_exporter": "python",
   "pygments_lexer": "ipython3",
   "version": "3.7.2"
  }
 },
 "nbformat": 4,
 "nbformat_minor": 1
}
